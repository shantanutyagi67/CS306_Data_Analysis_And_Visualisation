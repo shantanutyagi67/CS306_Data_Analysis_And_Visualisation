{
 "cells": [
  {
   "cell_type": "code",
   "execution_count": 8,
   "metadata": {},
   "outputs": [],
   "source": [
    "import seaborn as sns\n",
    "import csv\n",
    "import matplotlib.pyplot as plt\n",
    "import numpy as np\n",
    "from matplotlib import colors \n",
    "import pandas as pd\n",
    "from scipy import stats\n",
    "import statsmodels.api as sm\n",
    "from scipy.stats import multivariate_normal\n",
    "from scipy.optimize import curve_fit,least_squares\n",
    "import math\n",
    "import pandas as pd\n",
    "from statsmodels.formula.api import ols\n",
    "import random\n",
    "from matplotlib import cm\n",
    "from sklearn.metrics import r2_score\n",
    "from sklearn.metrics import mean_squared_error, r2_score\n",
    "from scipy.signal import find_peaks\n",
    "%matplotlib inline\n",
    "import warnings\n",
    "warnings.filterwarnings(\"ignore\")"
   ]
  },
  {
   "cell_type": "markdown",
   "metadata": {},
   "source": [
    "# Q1"
   ]
  },
  {
   "cell_type": "code",
   "execution_count": 14,
   "metadata": {},
   "outputs": [],
   "source": [
    "\n",
    "x=[0 ,1 ,3 ,3 ,4 ,5 ,5 ,6]\n",
    "y=[2 ,3 ,3 ,4 ,5 ,6 ,7 ,7]\n"
   ]
  },
  {
   "cell_type": "markdown",
   "metadata": {},
   "source": [
    "## Q1 a)"
   ]
  },
  {
   "cell_type": "code",
   "execution_count": 4,
   "metadata": {},
   "outputs": [],
   "source": [
    "def get_slope_const(x,y,mu_x,mu_y):\n",
    "    N = np.sum((x-mu_x)*(y-mu_y))\n",
    "    D = np.sum((x-mu_x)*(x-mu_x))\n",
    "    beta1 = N/D\n",
    "\n",
    "    beta0= mu_y - beta1*mu_x \n",
    "    \n",
    "    return beta0,beta1"
   ]
  },
  {
   "cell_type": "code",
   "execution_count": 5,
   "metadata": {},
   "outputs": [],
   "source": [
    "mu_x=np.mean(x)\n",
    "mu_y=np.mean(y)"
   ]
  },
  {
   "cell_type": "code",
   "execution_count": 6,
   "metadata": {
    "scrolled": true
   },
   "outputs": [
    {
     "name": "stdout",
     "output_type": "stream",
     "text": [
      "beta0 =  1.6736401673640167\n",
      "beta1 =  0.8744769874476988\n"
     ]
    }
   ],
   "source": [
    "beta0,beta1 = get_slope_const(x,y,mu_x,mu_y)\n",
    "print('beta0 = ',beta0)\n",
    "print('beta1 = ',beta1)\n"
   ]
  },
  {
   "cell_type": "code",
   "execution_count": 7,
   "metadata": {},
   "outputs": [],
   "source": [
    "ypred = [beta0 + x[i]*beta1 for i in range(len(x))]"
   ]
  },
  {
   "cell_type": "code",
   "execution_count": 8,
   "metadata": {},
   "outputs": [
    {
     "name": "stdout",
     "output_type": "stream",
     "text": [
      "R squared:  0.882926040466517\n"
     ]
    }
   ],
   "source": [
    "r2=r2_score(y,ypred)\n",
    "print('R squared: ',r2)"
   ]
  },
  {
   "cell_type": "markdown",
   "metadata": {},
   "source": [
    "## Q1 b)"
   ]
  },
  {
   "cell_type": "code",
   "execution_count": 9,
   "metadata": {},
   "outputs": [],
   "source": [
    "x_normalized = (x-mu_x)/np.std(x)\n",
    "y_normalized = (y-mu_y)/np.std(y)"
   ]
  },
  {
   "cell_type": "code",
   "execution_count": 10,
   "metadata": {},
   "outputs": [],
   "source": [
    "b0,b1 = get_slope_const(x_normalized,y_normalized,0,0)"
   ]
  },
  {
   "cell_type": "code",
   "execution_count": 11,
   "metadata": {},
   "outputs": [],
   "source": [
    "y_pred_normalized = [b0 + x_normalized[i]*b1 for i in range(len(x_normalized))]"
   ]
  },
  {
   "cell_type": "code",
   "execution_count": 12,
   "metadata": {},
   "outputs": [
    {
     "name": "stdout",
     "output_type": "stream",
     "text": [
      "R squared: 0.8829260404665171\n"
     ]
    }
   ],
   "source": [
    "r2_n=r2_score(y_normalized,y_pred_normalized)\n",
    "print('R squared:',r2_n)"
   ]
  },
  {
   "cell_type": "markdown",
   "metadata": {},
   "source": [
    "### Q1 c)"
   ]
  },
  {
   "cell_type": "code",
   "execution_count": 13,
   "metadata": {},
   "outputs": [
    {
     "name": "stdout",
     "output_type": "stream",
     "text": [
      "[0, 1, 3, 3, 4, 5, 5, 6, 12]\n",
      "[2, 3, 3, 4, 5, 6, 7, 7, -100]\n"
     ]
    }
   ],
   "source": [
    "out_x = 12\n",
    "out_y = -100\n",
    "x.append(out_x)\n",
    "y.append(out_y)\n",
    "print(x)\n",
    "print(y)"
   ]
  },
  {
   "cell_type": "markdown",
   "metadata": {},
   "source": [
    "### Q1 f)"
   ]
  },
  {
   "cell_type": "code",
   "execution_count": 15,
   "metadata": {},
   "outputs": [
    {
     "name": "stdout",
     "output_type": "stream",
     "text": [
      "y = 0.09841*x*x + 0.29265*x + 2.14882\n"
     ]
    },
    {
     "data": {
      "image/png": "[encoded data removed]",
      "text/plain": [
       "<Figure size 432x288 with 1 Axes>"
      ]
     },
     "metadata": {
      "needs_background": "light"
     },
     "output_type": "display_data"
    }
   ],
   "source": [
    "# define the function to fit\n",
    "def fit_parabola(x, a, b,c):\n",
    "    return a*x*x + b*x + c\n",
    "\n",
    "# call curve fit\n",
    "popt, _ = curve_fit(fit_parabola, x, y)\n",
    "\n",
    "# get the parameters\n",
    "a, b ,c= popt\n",
    "print('y = %.5f*x*x + %.5f*x + %.5f' % (a, b,c))\n",
    "\n",
    "# plot input vs output\n",
    "plt.scatter(x, y)\n",
    "# x_axis = np.arange(min(x), max(x)+1)\n",
    "y_fit = fit_parabola(np.array(x), a,b,c)\n",
    "plt.plot(x, y_fit,'r-')\n",
    "plt.show()"
   ]
  },
  {
   "cell_type": "markdown",
   "metadata": {},
   "source": [
    "## Q3"
   ]
  },
  {
   "cell_type": "code",
   "execution_count": 3,
   "metadata": {},
   "outputs": [
    {
     "name": "stdout",
     "output_type": "stream",
     "text": [
      "              Value\n",
      "Variable           \n",
      "a         48.833333\n",
      "b         55.833333\n",
      "c         50.833333\n"
     ]
    }
   ],
   "source": [
    "all_scores = []\n",
    "a=[47,53,49,50,48,46]\n",
    "b=[55,54,58,61,55,52]\n",
    "c=[54,50,51,51,50,49]\n",
    "for i in a:\n",
    "    all_scores.append(i)\n",
    "for i in b:\n",
    "    all_scores.append(i)\n",
    "for i in c:\n",
    "    all_scores.append(i)\n",
    "\n",
    "company_names = (['a'] * 6) +  (['b'] * 6) +  (['c'] * 6)\n",
    "data = pd.DataFrame({'Variable': company_names, 'Value': all_scores})\n",
    "# print(data)\n",
    "data_group = data.groupby('Variable').mean()\n",
    "print(data_group)"
   ]
  },
  {
   "cell_type": "code",
   "execution_count": 4,
   "metadata": {},
   "outputs": [
    {
     "name": "stdout",
     "output_type": "stream",
     "text": [
      "Value    14.852941\n",
      "dtype: float64\n"
     ]
    }
   ],
   "source": [
    "print(data.std()**2)"
   ]
  },
  {
   "cell_type": "code",
   "execution_count": 9,
   "metadata": {},
   "outputs": [
    {
     "name": "stdout",
     "output_type": "stream",
     "text": [
      "            df  sum_sq    mean_sq          F    PR(>F)\n",
      "Variable   2.0   156.0  78.000000  12.124352  0.000736\n",
      "Residual  15.0    96.5   6.433333        NaN       NaN\n"
     ]
    }
   ],
   "source": [
    "lm = ols('Value ~ Variable',data=data).fit()\n",
    "table  = sm.stats.anova_lm(lm)\n",
    "print(table)"
   ]
  },
  {
   "cell_type": "code",
   "execution_count": null,
   "metadata": {},
   "outputs": [],
   "source": []
  }
 ],
 "metadata": {
  "kernelspec": {
   "display_name": "Python 3",
   "language": "python",
   "name": "python3"
  },
  "language_info": {
   "codemirror_mode": {
    "name": "ipython",
    "version": 3
   },
   "file_extension": ".py",
   "mimetype": "text/x-python",
   "name": "python",
   "nbconvert_exporter": "python",
   "pygments_lexer": "ipython3",
   "version": "3.8.5"
  }
 },
 "nbformat": 4,
 "nbformat_minor": 2
}
